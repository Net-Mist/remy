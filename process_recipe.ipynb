{
 "cells": [
  {
   "cell_type": "code",
   "execution_count": 1,
   "metadata": {},
   "outputs": [],
   "source": [
    "import re \n",
    "\n",
    "split_words = [\n",
    "    \" de \",\n",
    "    \" d'\"\n",
    "]\n",
    "\n",
    "unsplitable_words = [\n",
    "    \"huile d'olive\",\n",
    "    \"herbes de provence\"\n",
    "]\n",
    "\n",
    "prefix = \"* \"\n",
    "\n",
    "units = [\n",
    "    \"g\",\n",
    "    'cl',\n",
    "]\n",
    "\n",
    "def p_u_word(ingredient: str):\n",
    "    ingredient = ingredient.lower()\n",
    "    for unsplitable_word in unsplitable_words:\n",
    "        if unsplitable_word in ingredient.lower():\n",
    "            si = \" \".join(ingredient.split(unsplitable_word)).strip()\n",
    "            if not si:\n",
    "                return f\"@{unsplitable_word}{{}}\"\n",
    "    return \"\"\n",
    "\n",
    "def p_single_word(ingredient: str) -> str:\n",
    "    if not \" \" in ingredient:\n",
    "        return f\"@{ingredient}\"\n",
    "    return \"\"\n",
    "\n",
    "def p_s_word(ingredient: str):\n",
    "    for word in split_words:\n",
    "        if word in ingredient:\n",
    "            split_ingredients = ingredient.split(word)\n",
    "            ingredient_name = word.join(split_ingredients[1:]).strip()\n",
    "            ingredient_q_u = split_ingredients[0].strip()\n",
    "            formated_q_u = p_q_u(ingredient_q_u)\n",
    "            return f\"@{ingredient_name}{formated_q_u}\"\n",
    "    return \"\"\n",
    "\n",
    "def p_q_u(q_u: str):\n",
    "    \"\"\"process quantity and unit\n",
    "    \"\"\"\n",
    "    q_u_split = q_u.split(\" \")\n",
    "    if len(q_u_split) == 1:\n",
    "        return f\"{{{q_u}}}\"\n",
    "    q = q_u_split[0]\n",
    "    u = \" \".join(q_u_split[1:])\n",
    "    return f\"{{{q}%{u}}}\"\n",
    "\n",
    "def p_start_int(ingredient: str) -> str:\n",
    "    i_split = ingredient.split(\" \")\n",
    "    if re.match(r\"\\d+\", i_split[0]):\n",
    "        if i_split[1] in units:\n",
    "            ingred = \" \".join(i_split[2:])\n",
    "            return f\"@{ingred}{{{i_split[0]}%{i_split[1]}}}\"\n",
    "        ingred = \" \".join(i_split[1:])\n",
    "        return f\"@{ingred}{{{i_split[0]}}}\"\n",
    "    return \"\"\n",
    "\n",
    "def process_ingredients(ingredients: str) -> str:\n",
    "    out = \"\"\n",
    "    for ingredient in ingredients.split(\"\\n\"):\n",
    "        ingredient = ingredient.removeprefix(prefix).strip().lower()\n",
    "        if not ingredient:\n",
    "            continue\n",
    "        if t := p_single_word(ingredient):\n",
    "            out += t + \"\\n\"\n",
    "            continue\n",
    "        if t := p_u_word(ingredient):\n",
    "            out += t + \"\\n\"\n",
    "            continue\n",
    "        if t := p_s_word(ingredient):\n",
    "            out += t + \"\\n\"\n",
    "            continue\n",
    "        if t := p_start_int(ingredient):\n",
    "            out += t + \"\\n\"\n",
    "            continue\n",
    "        out += f\"@{ingredient}{{}}\\n\"\n",
    "    return out"
   ]
  },
  {
   "cell_type": "code",
   "execution_count": 22,
   "metadata": {},
   "outputs": [],
   "source": [
    "ingredients=\"\"\"\n",
    "* 1 yaourt et son pot vide\n",
    "* 1.5 pot  de sucre en poudre\n",
    "* 3 pots de farine\n",
    "* 1/2 pot d'huile d'arachide\n",
    "* 3 œufs entiers\n",
    "* 1/2 sachet de levure\n",
    "* 1 pincée de sel\n",
    "* Un peu de beurre pour le moule ou du papier sulfurisé\n",
    "\"\"\"\n",
    "\n",
    "protocol = \"\"\"\n",
    "* Préchauffer le four à 180° (th 6).\n",
    "* Vider le yaourt dans un plat creux. Laver le pot et l'essuyer. Verser le sucre, l'huile et le sel dans le plat. Ajouter la farine et la levure puis les œufs entiers. Bien mélanger.\n",
    "* Beurrer le moule (rond ou à cake) ou le papier de cuisson disposé dans le moule. Y verser la pâte et faire cuire au four pendant 45mn.\n",
    "\"\"\""
   ]
  },
  {
   "cell_type": "code",
   "execution_count": 23,
   "metadata": {},
   "outputs": [
    {
     "data": {
      "text/plain": [
       "{'yaourt et son pot vide': '@yaourt et son pot vide{1}',\n",
       " 'sucre en poudre': '@sucre en poudre{1.5%pot}',\n",
       " 'farine': '@farine{3%pots}',\n",
       " \"huile d'arachide\": \"@huile d'arachide{1/2%pot}\",\n",
       " 'œufs entiers': '@œufs entiers{3}',\n",
       " 'levure': '@levure{1/2%sachet}',\n",
       " 'sel': '@sel{1%pincée}',\n",
       " 'beurre pour le moule ou du papier sulfurisé': '@beurre pour le moule ou du papier sulfurisé{un%peu}'}"
      ]
     },
     "execution_count": 23,
     "metadata": {},
     "output_type": "execute_result"
    }
   ],
   "source": [
    "out = process_ingredients(ingredients)\n",
    "map_ingredient_to_cooklang = {\n",
    "    l[1:].split(\"{\")[0]: l for l in out.splitlines()\n",
    "}\n",
    "map_ingredient_to_cooklang"
   ]
  },
  {
   "cell_type": "code",
   "execution_count": 24,
   "metadata": {},
   "outputs": [
    {
     "name": "stdout",
     "output_type": "stream",
     "text": [
      "Préchauffer le four à 180° (th 6).\n",
      "Vider le yaourt dans un plat creux. Laver le pot et l'essuyer. Verser le sucre, l'huile et le @sel{1%pincée} dans le plat. Ajouter la @farine{3%pots} et la @levure{1/2%sachet} puis les @œufs entiers{3}. Bien mélanger.\n",
      "Beurrer le moule (rond ou à cake) ou le papier de cuisson disposé dans le moule. Y verser la pâte et faire cuire au four pendant 45mn.\n",
      "@yaourt et son pot vide{1}\n",
      "@sucre en poudre{1.5%pot}\n",
      "@huile d'arachide{1/2%pot}\n",
      "@beurre pour le moule ou du papier sulfurisé{un%peu}\n"
     ]
    }
   ],
   "source": [
    "processed_ingredients = []\n",
    "for step in protocol.split(\"\\n\"):\n",
    "    step = step.strip().removeprefix(\"* \")\n",
    "    if not step:\n",
    "        continue\n",
    "    for ingredient in map_ingredient_to_cooklang.keys():\n",
    "        if ingredient.lower() in step and ingredient not in processed_ingredients:\n",
    "            step = step.replace(ingredient, map_ingredient_to_cooklang[ingredient])\n",
    "            processed_ingredients.append(ingredient)\n",
    "\n",
    "    print(step)\n",
    "\n",
    "print(\"\\n\".join(v for k,v in map_ingredient_to_cooklang.items() if k not in processed_ingredients))\n"
   ]
  },
  {
   "cell_type": "code",
   "execution_count": null,
   "metadata": {},
   "outputs": [],
   "source": []
  },
  {
   "cell_type": "code",
   "execution_count": null,
   "metadata": {},
   "outputs": [],
   "source": []
  },
  {
   "cell_type": "code",
   "execution_count": null,
   "metadata": {},
   "outputs": [],
   "source": []
  }
 ],
 "metadata": {
  "interpreter": {
   "hash": "6f41bb257e0858c5e7dd8cb241e9a1977a8655e4f03ba62e41cfc5f6abe52b14"
  },
  "kernelspec": {
   "display_name": "Python 3.10.4 64-bit",
   "language": "python",
   "name": "python3"
  },
  "language_info": {
   "codemirror_mode": {
    "name": "ipython",
    "version": 3
   },
   "file_extension": ".py",
   "mimetype": "text/x-python",
   "name": "python",
   "nbconvert_exporter": "python",
   "pygments_lexer": "ipython3",
   "version": "3.10.4"
  },
  "orig_nbformat": 4
 },
 "nbformat": 4,
 "nbformat_minor": 2
}

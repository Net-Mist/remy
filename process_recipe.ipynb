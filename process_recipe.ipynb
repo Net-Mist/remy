{
 "cells": [
  {
   "cell_type": "code",
   "execution_count": 31,
   "metadata": {},
   "outputs": [],
   "source": [
    "import re \n",
    "\n",
    "split_words = [\n",
    "    \" de \",\n",
    "    \" d'\"\n",
    "]\n",
    "\n",
    "unsplitable_words = [\n",
    "    \"huile d'olive\",\n",
    "    \"herbes de provence\"\n",
    "]\n",
    "\n",
    "prefix = \"* \"\n",
    "\n",
    "units = [\n",
    "    \"g\",\n",
    "    'cl',\n",
    "]\n",
    "\n",
    "def p_u_word(ingredient: str):\n",
    "    ingredient = ingredient.lower()\n",
    "    for unsplitable_word in unsplitable_words:\n",
    "        if unsplitable_word in ingredient.lower():\n",
    "            si = \" \".join(ingredient.split(unsplitable_word)).strip()\n",
    "            if not si:\n",
    "                return f\"@{unsplitable_word}{{}}\"\n",
    "    return \"\"\n",
    "\n",
    "def p_single_word(ingredient: str) -> str:\n",
    "    if not \" \" in ingredient:\n",
    "        return f\"@{ingredient}\"\n",
    "    return \"\"\n",
    "\n",
    "def p_s_word(ingredient: str):\n",
    "    for word in split_words:\n",
    "        if word in ingredient:\n",
    "            split_ingredients = ingredient.split(word)\n",
    "            ingredient_name = word.join(split_ingredients[1:]).strip()\n",
    "            ingredient_q_u = split_ingredients[0].strip()\n",
    "            formated_q_u = p_q_u(ingredient_q_u)\n",
    "            return f\"@{ingredient_name}{formated_q_u}\"\n",
    "    return \"\"\n",
    "\n",
    "def p_q_u(q_u: str):\n",
    "    \"\"\"process quantity and unit\n",
    "    \"\"\"\n",
    "    q_u_split = q_u.split(\" \")\n",
    "    if len(q_u_split) == 1:\n",
    "        return f\"{{{q_u}}}\"\n",
    "    q = q_u_split[0]\n",
    "    u = \" \".join(q_u_split[1:])\n",
    "    return f\"{{{q}%{u}}}\"\n",
    "\n",
    "def p_start_int(ingredient: str) -> str:\n",
    "    i_split = ingredient.split(\" \")\n",
    "    if re.match(r\"\\d+\", i_split[0]):\n",
    "        if i_split[1] in units:\n",
    "            ingred = \" \".join(i_split[2:])\n",
    "            return f\"@{ingred}{{{i_split[0]}%{i_split[1]}}}\"\n",
    "        ingred = \" \".join(i_split[1:])\n",
    "        return f\"@{ingred}{{{i_split[0]}}}\"\n",
    "    return \"\"\n",
    "\n",
    "def process_ingredients(ingredients: str) -> str:\n",
    "    out = \"\"\n",
    "    for ingredient in ingredients.split(\"\\n\"):\n",
    "        ingredient = ingredient.removeprefix(prefix).strip().lower()\n",
    "        if not ingredient:\n",
    "            continue\n",
    "        if t := p_single_word(ingredient):\n",
    "            out += t + \"\\n\"\n",
    "            continue\n",
    "        if t := p_u_word(ingredient):\n",
    "            out += t + \"\\n\"\n",
    "            continue\n",
    "        if t := p_s_word(ingredient):\n",
    "            out += t + \"\\n\"\n",
    "            continue\n",
    "        if t := p_start_int(ingredient):\n",
    "            out += t + \"\\n\"\n",
    "            continue\n",
    "        out += f\"@{ingredient}{{}}\\n\"\n",
    "    return out"
   ]
  },
  {
   "cell_type": "code",
   "execution_count": 45,
   "metadata": {},
   "outputs": [],
   "source": [
    "ingredients=\"\"\"\n",
    "* 250 g de tagliatelle\n",
    "* 1 poireau\n",
    "* 75 g de lardons\n",
    "* 1/2 petit pot de crème fraîche\n",
    "* Beurre\n",
    "* Poivre\n",
    "* Sel\n",
    "* Parmesan\n",
    "\"\"\"\n",
    "\n",
    "protocol = \"\"\"\n",
    "* Laver puis couper les poireaux en fines rondelles,\n",
    "* les mettre à fondre environ 15 min dans une poêle avec un bon morceau de beurre (remuer souvent).\n",
    "* Mettre les tagliatelles à cuire comme indiqué sur le paquet.\n",
    "* Attendre que les poireaux soient bien fondus et ajouter les lardons, faire dorer.\n",
    "* Hors du feux, mettre la crème fraîche et remuer, poivrer et saler à votre goût.\n",
    "* Égouter les tagliatelles, les mettre dans un plat et verser la sauce aux poireaux dessus.\n",
    "* Ajouter du parmesan râpé.\n",
    "* Servir aussitôt.\n",
    "\"\"\""
   ]
  },
  {
   "cell_type": "code",
   "execution_count": 46,
   "metadata": {},
   "outputs": [
    {
     "data": {
      "text/plain": [
       "{'tagliatelle': '@tagliatelle{250%g}',\n",
       " 'poireau': '@poireau{1}',\n",
       " 'lardons': '@lardons{75%g}',\n",
       " 'crème fraîche': '@crème fraîche{1/2%petit pot}',\n",
       " 'beurre': '@beurre',\n",
       " 'poivre': '@poivre',\n",
       " 'sel': '@sel',\n",
       " 'parmesan': '@parmesan'}"
      ]
     },
     "execution_count": 46,
     "metadata": {},
     "output_type": "execute_result"
    }
   ],
   "source": [
    "out = process_ingredients(ingredients)\n",
    "map_ingredient_to_cooklang = {\n",
    "    l[1:].split(\"{\")[0]: l for l in out.splitlines()\n",
    "}\n",
    "map_ingredient_to_cooklang"
   ]
  },
  {
   "cell_type": "code",
   "execution_count": 48,
   "metadata": {},
   "outputs": [
    {
     "name": "stdout",
     "output_type": "stream",
     "text": [
      "Laver puis couper les @poireau{1}x en fines rondelles,\n",
      "les mettre à fondre environ 15 min dans une poêle avec un bon morceau de @beurre (remuer souvent).\n",
      "Mettre les @tagliatelle{250%g}s à cuire comme indiqué sur le paquet.\n",
      "Attendre que les poireaux soient bien fondus et ajouter les @lardons{75%g}, faire dorer.\n",
      "Hors du feux, mettre la @crème fraîche{1/2%petit pot} et remuer, @poivrer et saler à votre goût.\n",
      "Égouter les tagliatelles, les mettre dans un plat et verser la sauce aux poireaux dessus.\n",
      "Ajouter du @parmesan râpé.\n",
      "Servir aussitôt.\n",
      "@sel\n"
     ]
    }
   ],
   "source": [
    "processed_ingredients = []\n",
    "for step in protocol.split(\"\\n\"):\n",
    "    step = step.strip().removeprefix(\"* \")\n",
    "    if not step:\n",
    "        continue\n",
    "    for ingredient in map_ingredient_to_cooklang.keys():\n",
    "        if ingredient.lower() in step and ingredient not in processed_ingredients:\n",
    "            step = step.replace(ingredient, map_ingredient_to_cooklang[ingredient])\n",
    "            processed_ingredients.append(ingredient)\n",
    "\n",
    "    print(step)\n",
    "\n",
    "print(\"\\n\".join(v for k,v in map_ingredient_to_cooklang.items() if k not in processed_ingredients))\n"
   ]
  },
  {
   "cell_type": "code",
   "execution_count": null,
   "metadata": {},
   "outputs": [],
   "source": []
  }
 ],
 "metadata": {
  "interpreter": {
   "hash": "6f41bb257e0858c5e7dd8cb241e9a1977a8655e4f03ba62e41cfc5f6abe52b14"
  },
  "kernelspec": {
   "display_name": "Python 3.10.4 64-bit",
   "language": "python",
   "name": "python3"
  },
  "language_info": {
   "codemirror_mode": {
    "name": "ipython",
    "version": 3
   },
   "file_extension": ".py",
   "mimetype": "text/x-python",
   "name": "python",
   "nbconvert_exporter": "python",
   "pygments_lexer": "ipython3",
   "version": "3.10.4"
  },
  "orig_nbformat": 4
 },
 "nbformat": 4,
 "nbformat_minor": 2
}

{
 "cells": [
  {
   "cell_type": "code",
   "execution_count": 2,
   "metadata": {},
   "outputs": [],
   "source": [
    "from add_recipe import process_ingredients, process_steps"
   ]
  },
  {
   "cell_type": "code",
   "execution_count": 32,
   "metadata": {},
   "outputs": [],
   "source": [
    "ingredients = \"\"\"\n",
    "* 1 pâte sablée avec 200g de farine, 100g de beurre, 60g de sucre en poudre, une pincée de sel, eau.\n",
    "* 800g de pommes\n",
    "* 2 œufs\n",
    "* 100g de crème fraîche ou de fromage blanc\n",
    "* 50g de sucre en poudre\n",
    "\n",
    "\"\"\"\n",
    "i = process_ingredients(ingredients.split(\"\\n\"))\n",
    "\n",
    "preparation = \"\"\"\n",
    "* Préchauffer le four à 210°C (Th 6, 7)\n",
    "* Etaler la pâte au fond d'un plat à tarte préalablement beurré. Piquer le fond avec une fourchette. Badigeonner le tour avec un peu de lait ou d'œuf battu pour qu'il dore un peu et faire cuire à blanc 10mn environ à four chaud (Th -, 180°C).\n",
    "* Peler et épépiner les pommes. Les couper en lamelles assez épaisses et les ranger sur la pâte en les faisant légèrement se chevaucher.\n",
    "* Dans un plat creux, battre les œufs en omelette. Ajouter le sucre, le fromage blanc ou la crème fraîche. Verser sur les pommes et parsemer d'amandes effilées.\n",
    "* Mettre à cuire à four chaud pendant 25 minutes.\n",
    "\n",
    "\"\"\""
   ]
  },
  {
   "cell_type": "code",
   "execution_count": 33,
   "metadata": {},
   "outputs": [
    {
     "name": "stdout",
     "output_type": "stream",
     "text": [
      "\n",
      "Préchauffer le four à 210°C (Th 6, 7)\n",
      "Etaler la pâte au fond d'un plat à tarte préalablement beurré. Piquer le fond avec une fourchette. Badigeonner le tour avec un peu de lait ou d'œuf battu pour qu'il dore un peu et faire cuire à blanc 10mn environ à four chaud (Th -, 180°C).\n",
      "Peler et épépiner les @pommes{800%g}. Les couper en lamelles assez épaisses et les ranger sur la pâte en les faisant légèrement se chevaucher.\n",
      "Dans un plat creux, battre les @œufs{2} en omelette. Ajouter le sucre, le fromage blanc ou la crème fraîche. Verser sur les pommes et parsemer d'amandes effilées.\n",
      "Mettre à cuire à four chaud pendant 25 minutes.\n",
      "@pâte sablée avec 200g de farine, 100g de beurre, 60g de sucre en poudre, une pincée de sel, eau.{1}\n",
      "@crème fraîche ou de fromage blanc{100%g}\n",
      "@sucre en poudre{50%g}\n"
     ]
    }
   ],
   "source": [
    "print(process_steps(preparation.split(\"\\n\"), i))"
   ]
  },
  {
   "cell_type": "code",
   "execution_count": null,
   "metadata": {},
   "outputs": [],
   "source": []
  }
 ],
 "metadata": {
  "interpreter": {
   "hash": "6f41bb257e0858c5e7dd8cb241e9a1977a8655e4f03ba62e41cfc5f6abe52b14"
  },
  "kernelspec": {
   "display_name": "Python 3.10.4 64-bit",
   "language": "python",
   "name": "python3"
  },
  "language_info": {
   "codemirror_mode": {
    "name": "ipython",
    "version": 3
   },
   "file_extension": ".py",
   "mimetype": "text/x-python",
   "name": "python",
   "nbconvert_exporter": "python",
   "pygments_lexer": "ipython3",
   "version": "3.10.4"
  },
  "orig_nbformat": 4
 },
 "nbformat": 4,
 "nbformat_minor": 2
}
